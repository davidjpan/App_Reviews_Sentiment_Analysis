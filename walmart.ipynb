{
 "cells": [
  {
   "cell_type": "code",
   "execution_count": 2,
   "metadata": {},
   "outputs": [],
   "source": [
    "# Importing packages\n",
    "from selenium import webdriver\n",
    "import pandas as pd"
   ]
  },
  {
   "cell_type": "code",
   "execution_count": 3,
   "metadata": {},
   "outputs": [],
   "source": [
    "# Create a new instance of Google Chrome\n",
    "driver = webdriver.Chrome('/Users/jpan/Downloads/chromedriver')\n",
    "driver.get('https://play.google.com/store/apps/details?id=com.walmart.android&showAllReviews=true')"
   ]
  },
  {
   "cell_type": "code",
   "execution_count": 4,
   "metadata": {},
   "outputs": [],
   "source": [
    "id = list(range(2501))\n",
    "del id[0]\n",
    "\n",
    "df = pd.DataFrame(columns = ['Ratings','Comments']) \n",
    "\n",
    "for x in id:\n",
    "    ratings_element = driver.find_elements_by_xpath('//*[@id=\"fcxH9b\"]/div[4]/c-wiz/div/div[2]/div/div[1]/div/div/div[1]/div[2]/div/div[' + str(x) + ']/div/div[2]/div[1]/div[1]/div/span[1]/div/div')[0]\n",
    "    ratings = ratings_element.get_attribute('aria-label')\n",
    "    \n",
    "    comments_element = driver.find_elements_by_xpath('//*[@id=\"fcxH9b\"]/div[4]/c-wiz/div/div[2]/div/div[1]/div/div/div[1]/div[2]/div/div[' + str(x) + ']/div/div[2]/div[2]/span[1]')[0]\n",
    "    comments = comments_element.text\n",
    "    \n",
    "    df.loc[len(df)] = [ratings, comments]"
   ]
  },
  {
   "cell_type": "code",
   "execution_count": 6,
   "metadata": {},
   "outputs": [],
   "source": [
    "df.to_csv(\"walmart_2500.csv\", sep='\\t', encoding = 'utf-8')"
   ]
  },
  {
   "cell_type": "code",
   "execution_count": 8,
   "metadata": {},
   "outputs": [],
   "source": [
    "baddf = df.loc[(df['Ratings'] == 'Rated 1 stars out of five stars') | (df['Ratings'] == 'Rated 2 stars out of five stars')]\n",
    "baddf.to_csv(\"walmart_bad_1280.csv\", sep='\\t', encoding = 'utf-8')"
   ]
  },
  {
   "cell_type": "code",
   "execution_count": 10,
   "metadata": {},
   "outputs": [],
   "source": [
    "gooddf = df.loc[(df['Ratings'] == 'Rated 3 stars out of five stars') | (df['Ratings'] == 'Rated 4 stars out of five stars') | (df['Ratings'] == 'Rated 5 stars out of five stars')]\n",
    "gooddf.to_csv(\"walmart_good_1220.csv\", sep='\\t', encoding = 'utf-8')"
   ]
  },
  {
   "cell_type": "code",
   "execution_count": null,
   "metadata": {},
   "outputs": [],
   "source": []
  }
 ],
 "metadata": {
  "kernelspec": {
   "display_name": "Python 2",
   "language": "python",
   "name": "python2"
  },
  "language_info": {
   "codemirror_mode": {
    "name": "ipython",
    "version": 2
   },
   "file_extension": ".py",
   "mimetype": "text/x-python",
   "name": "python",
   "nbconvert_exporter": "python",
   "pygments_lexer": "ipython2",
   "version": "2.7.16"
  }
 },
 "nbformat": 4,
 "nbformat_minor": 2
}
